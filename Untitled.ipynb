{
 "cells": [
  {
   "cell_type": "code",
   "execution_count": null,
   "id": "c2450ee9-02bf-4e5d-b6b2-4b9a7c452241",
   "metadata": {},
   "outputs": [],
   "source": [
    "shopping_list = ['bread', 'milk','eggs']\n"
   ]
  }
 ],
 "metadata": {
  "kernelspec": {
   "display_name": "Python 3 (ipykernel)",
   "language": "python",
   "name": "python3"
  },
  "language_info": {
   "codemirror_mode": {
    "name": "ipython",
    "version": 3
   },
   "file_extension": ".py",
   "mimetype": "text/x-python",
   "name": "python",
   "nbconvert_exporter": "python",
   "pygments_lexer": "ipython3",
   "version": "3.13.5"
  }
 },
 "nbformat": 4,
 "nbformat_minor": 5
}
